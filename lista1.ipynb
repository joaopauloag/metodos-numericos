{
 "cells": [
  {
   "cell_type": "code",
   "execution_count": 1,
   "metadata": {},
   "outputs": [],
   "source": [
    "from numpy import pi\n",
    "from numpy import e\n",
    "from decimal import *\n",
    "from matplotlib import pyplot as plt"
   ]
  },
  {
   "cell_type": "markdown",
   "metadata": {
    "id": "tZAtyGmzmSLi"
   },
   "source": [
    "# Questão 1"
   ]
  },
  {
   "cell_type": "code",
   "execution_count": 2,
   "metadata": {
    "colab": {
     "base_uri": "https://localhost:8080/"
    },
    "executionInfo": {
     "elapsed": 17,
     "status": "ok",
     "timestamp": 1645730042543,
     "user": {
      "displayName": "João Paulo Agostinho da Silva",
      "photoUrl": "https://lh3.googleusercontent.com/a-/AOh14Gihe7k2Fa1XQkxm3oFc7x_Uh5C44SzfUG8O2DXr=s64",
      "userId": "02561318695232869650"
     },
     "user_tz": 180
    },
    "id": "aYC7UuV6maf2",
    "outputId": "44ac7adf-4f9f-4da3-ccd9-43b6426f3bbd"
   },
   "outputs": [],
   "source": [
    "def calcularErros(p1, p2):\n",
    "    erro_absoluto = abs(p1 - p2)\n",
    "    erro_relativo = abs(p1 - p2) / abs(p1)\n",
    "    print(f'Erro absoluto: {erro_absoluto}')\n",
    "    print(f'Erro relativo: {erro_relativo}')"
   ]
  },
  {
   "cell_type": "code",
   "execution_count": 3,
   "metadata": {},
   "outputs": [
    {
     "name": "stdout",
     "output_type": "stream",
     "text": [
      "Erro absoluto: 14.544268632989315\n",
      "Erro relativo: 0.010497822704619136\n"
     ]
    }
   ],
   "source": [
    "# Item (a)\n",
    "p = 10**pi\n",
    "p_asterisco = 1400\n",
    "calcularErros(p, p_asterisco)"
   ]
  },
  {
   "cell_type": "code",
   "execution_count": 4,
   "metadata": {},
   "outputs": [
    {
     "name": "stdout",
     "output_type": "stream",
     "text": [
      "Erro absoluto: 0.00021356237309522186\n",
      "Erro relativo: 0.00015101140222192286\n"
     ]
    }
   ],
   "source": [
    "# Item (b)\n",
    "p = 2**(1/2)\n",
    "p_asterisco = 1.414\n",
    "calcularErros(p, p_asterisco)"
   ]
  },
  {
   "cell_type": "code",
   "execution_count": 5,
   "metadata": {},
   "outputs": [
    {
     "name": "stdout",
     "output_type": "stream",
     "text": [
      "Erro absoluto: 26.465794806703343\n",
      "Erro relativo: 0.0012015452253326688\n"
     ]
    }
   ],
   "source": [
    "# Item (c)\n",
    "p = e**10\n",
    "p_asterisco = 22000\n",
    "calcularErros(p, p_asterisco)"
   ]
  },
  {
   "cell_type": "code",
   "execution_count": 6,
   "metadata": {},
   "outputs": [
    {
     "name": "stdout",
     "output_type": "stream",
     "text": [
      "Erro absoluto: 420\n",
      "Erro relativo: 0.010416666666666666\n"
     ]
    }
   ],
   "source": [
    "# Item (d)\n",
    "def fatorial(n):\n",
    "    if n == 1:\n",
    "        return 1\n",
    "    return n*fatorial(n-1)\n",
    "\n",
    "p = fatorial(8)\n",
    "p_asterisco = 39900\n",
    "calcularErros(p, p_asterisco)"
   ]
  },
  {
   "cell_type": "markdown",
   "metadata": {
    "id": "jwgD3f4FmfUt"
   },
   "source": [
    "# Questão 2"
   ]
  },
  {
   "cell_type": "code",
   "execution_count": 7,
   "metadata": {},
   "outputs": [],
   "source": [
    "def truncar(p, t):\n",
    "\n",
    "    c = 0\n",
    "    while(abs(p > 1)):\n",
    "        p = p/10\n",
    "        c = c+1\n",
    "    if t == 3:\n",
    "        p = Decimal(p).quantize(Decimal('0.001'), rounding=ROUND_DOWN)\n",
    "    else:\n",
    "        p = Decimal(p).quantize(Decimal('0.0001'), rounding=ROUND_DOWN)\n",
    "    p = p*10**(c)\n",
    "    \n",
    "    return p"
   ]
  },
  {
   "cell_type": "code",
   "execution_count": 8,
   "metadata": {},
   "outputs": [],
   "source": [
    "def arredondar(p, a):\n",
    "\n",
    "    c = 0\n",
    "    while(abs(p > 1)):\n",
    "        p = p/10\n",
    "        c = c+1\n",
    "    if a == 3:\n",
    "        p = Decimal(p).quantize(Decimal('0.001'), rounding=ROUND_HALF_DOWN)\n",
    "    else:\n",
    "        p = Decimal(p).quantize(Decimal('0.0001'), rounding=ROUND_HALF_DOWN)\n",
    "    p = p*10**(c)\n",
    "    \n",
    "    return p"
   ]
  },
  {
   "cell_type": "code",
   "execution_count": 9,
   "metadata": {
    "colab": {
     "base_uri": "https://localhost:8080/"
    },
    "executionInfo": {
     "elapsed": 316,
     "status": "ok",
     "timestamp": 1636573938436,
     "user": {
      "displayName": "Aristoteles Peixoto Barros",
      "photoUrl": "https://lh3.googleusercontent.com/a-/AOh14GhAWg84MOPk06Rpxmz-khaAUacNnDSXodRH71Hg=s64",
      "userId": "12183104917238683087"
     },
     "user_tz": 180
    },
    "id": "bZLblG5amiha",
    "outputId": "6cdf8d42-a9c4-4db9-e386-2f0d80053917"
   },
   "outputs": [
    {
     "name": "stdout",
     "output_type": "stream",
     "text": [
      "Cálculo exato: 132.501\n",
      "\n",
      "Truncamento com 3 dígitos: 132.0\n",
      "Erro absoluto: 0.5010000000000048\n",
      "Erro relativo: 0.003781103538841252\n",
      "\n",
      "Truncamento com 4 dígitos: 132.5\n",
      "Erro absoluto: 0.0010000000000047748\n",
      "Erro relativo: 7.547112852014512e-06\n",
      "\n",
      "Arredondamento com 3 dígitos: 133.0\n",
      "Erro absoluto: 0.4989999999999952\n",
      "Erro relativo: 0.003766009313137223\n",
      "\n",
      "Arredondamento com 4 dígitos: 132.5\n",
      "Erro absoluto: 0.0010000000000047748\n",
      "Erro relativo: 7.547112852014512e-06\n"
     ]
    }
   ],
   "source": [
    "a, b = 133, 0.499\n",
    "exato = a - b\n",
    "print(f'Cálculo exato: {exato}')\n",
    "\n",
    "r = truncar(truncar(a, 3) - truncar(b, 3), 3)\n",
    "print(f'\\nTruncamento com 3 dígitos: {float(r)}')\n",
    "calcularErros(exato, float(r))\n",
    "\n",
    "r = truncar(truncar(a, 4) - truncar(b, 4), 4)\n",
    "print(f'\\nTruncamento com 4 dígitos: {float(r)}')\n",
    "calcularErros(exato, float(r))\n",
    "\n",
    "r = arredondar(arredondar(a, 3) - arredondar(b, 3), 3)\n",
    "print(f'\\nArredondamento com 3 dígitos: {float(r)}')\n",
    "calcularErros(exato, float(r))\n",
    "\n",
    "r = arredondar(arredondar(a, 4) - arredondar(b, 4), 4)\n",
    "print(f'\\nArredondamento com 4 dígitos: {float(r)}')\n",
    "calcularErros(exato, float(r))"
   ]
  },
  {
   "cell_type": "code",
   "execution_count": 10,
   "metadata": {
    "colab": {
     "base_uri": "https://localhost:8080/"
    },
    "executionInfo": {
     "elapsed": 364,
     "status": "ok",
     "timestamp": 1636574095889,
     "user": {
      "displayName": "Aristoteles Peixoto Barros",
      "photoUrl": "https://lh3.googleusercontent.com/a-/AOh14GhAWg84MOPk06Rpxmz-khaAUacNnDSXodRH71Hg=s64",
      "userId": "12183104917238683087"
     },
     "user_tz": 180
    },
    "id": "52lvzzWwmikj",
    "outputId": "83be0957-8550-40df-af2b-940d2ed6dc0b"
   },
   "outputs": [
    {
     "name": "stdout",
     "output_type": "stream",
     "text": [
      "Cálculo exato: 1.673\n",
      "\n",
      "Truncamento com 3 dígitos: 1.67\n",
      "Erro absoluto: 0.0030000000000001137\n",
      "Erro relativo: 0.0017931858936043716\n",
      "\n",
      "Truncamento com 4 dígitos: 1.673\n",
      "Erro absoluto: 0.0\n",
      "Erro relativo: 0.0\n",
      "\n",
      "Arredondamento com 3 dígitos: 1.67\n",
      "Erro absoluto: 0.0030000000000001137\n",
      "Erro relativo: 0.0017931858936043716\n",
      "\n",
      "Arredondamento com 4 dígitos: 1.673\n",
      "Erro absoluto: 0.0\n",
      "Erro relativo: 0.0\n"
     ]
    }
   ],
   "source": [
    "a, b, c = 121, 119, .327\n",
    "exato = (a - b) - c\n",
    "print(f'Cálculo exato: {exato}')\n",
    "\n",
    "d = truncar(truncar(a, 3) - truncar(b, 3), 3)\n",
    "r = truncar(d - truncar(c, 3), 3)\n",
    "print(f'\\nTruncamento com 3 dígitos: {float(r)}')\n",
    "calcularErros(exato, float(r))\n",
    "\n",
    "d = truncar(truncar(a, 4) - truncar(b, 4), 4)\n",
    "r = truncar(d - truncar(c, 4), 4)\n",
    "print(f'\\nTruncamento com 4 dígitos: {float(r)}')\n",
    "calcularErros(exato, float(r))\n",
    "\n",
    "d = arredondar(arredondar(a, 3) - arredondar(b, 3), 3)\n",
    "r = arredondar(d - arredondar(c, 3), 3)\n",
    "print(f'\\nArredondamento com 3 dígitos: {float(r)}')\n",
    "calcularErros(exato, float(r))\n",
    "\n",
    "d = arredondar(arredondar(a, 4) - arredondar(b, 4), 4)\n",
    "r = arredondar(d - arredondar(c, 4), 4)\n",
    "print(f'\\nArredondamento com 4 dígitos: {float(r)}')\n",
    "calcularErros(exato, float(r))"
   ]
  },
  {
   "cell_type": "code",
   "execution_count": 11,
   "metadata": {
    "colab": {
     "base_uri": "https://localhost:8080/"
    },
    "executionInfo": {
     "elapsed": 16,
     "status": "ok",
     "timestamp": 1636574098025,
     "user": {
      "displayName": "Aristoteles Peixoto Barros",
      "photoUrl": "https://lh3.googleusercontent.com/a-/AOh14GhAWg84MOPk06Rpxmz-khaAUacNnDSXodRH71Hg=s64",
      "userId": "12183104917238683087"
     },
     "user_tz": 180
    },
    "id": "8Ymo9VZxminj",
    "outputId": "041cf44b-28a3-4fa0-f188-b839ed9f7e4c"
   },
   "outputs": [
    {
     "name": "stdout",
     "output_type": "stream",
     "text": [
      "Cálculo exato: 1.9535401392860217\n",
      "\n",
      "Truncamento com 3 dígitos: 3.95\n",
      "Erro absoluto: 1.9964598607139785\n",
      "Erro relativo: 1.0219702275703653\n",
      "\n",
      "Truncamento com 4 dígitos: 2.002\n",
      "Erro absoluto: 0.04845986071397812\n",
      "Erro relativo: 0.02480617610022039\n",
      "\n",
      "Arredondamento com 3 dígitos: 1.8\n",
      "Erro absoluto: 0.15354013928602162\n",
      "Erro relativo: 0.07859584566413738\n",
      "\n",
      "Arredondamento com 4 dígitos: 1.986\n",
      "Erro absoluto: 0.03245986071397833\n",
      "Erro relativo: 0.016615916950568382\n"
     ]
    }
   ],
   "source": [
    "a, b, c, d, f = 13, 14, 6, 7, 5.4\n",
    "\n",
    "exato = ((a/b) - (c/d))/(2*e - 5.4)\n",
    "print(f'Cálculo exato: {exato}')\n",
    "\n",
    "m = truncar(truncar(a, 3) / truncar(b, 3), 3)\n",
    "n = truncar(truncar(c, 3) / truncar(d, 3), 3)\n",
    "o = truncar(truncar(m, 3) - truncar(n, 3), 3)\n",
    "p = truncar(truncar(2, 3) * truncar(e, 3), 3)\n",
    "q = truncar(p - truncar(f, 3), 3)\n",
    "r = truncar(truncar(o, 3) / truncar(q, 3), 3)\n",
    "print(f'\\nTruncamento com 3 dígitos: {float(r)}')\n",
    "calcularErros(exato, float(r))\n",
    "\n",
    "m = truncar(truncar(a, 4) / truncar(b, 4), 4)\n",
    "n = truncar(truncar(c, 4) / truncar(d, 4), 4)\n",
    "o = truncar(truncar(m, 4) - truncar(n, 4), 4)\n",
    "p = truncar(truncar(2, 4) * truncar(e, 4), 4)\n",
    "q = truncar(p - truncar(f, 4), 4)\n",
    "r = truncar(truncar(o, 4) / truncar(q, 4), 4)\n",
    "print(f'\\nTruncamento com 4 dígitos: {float(r)}')\n",
    "calcularErros(exato, float(r))\n",
    "\n",
    "m = arredondar(arredondar(a, 3) / arredondar(b, 3), 3)\n",
    "n = arredondar(arredondar(c, 3) / arredondar(d, 3), 3)\n",
    "o = arredondar(arredondar(m, 3) - arredondar(n, 3), 3)\n",
    "p = arredondar(arredondar(2, 3) * arredondar(e, 3), 3)\n",
    "q = arredondar(p - arredondar(f, 3), 3)\n",
    "r = arredondar(arredondar(o, 3) / arredondar(q, 3), 3)\n",
    "print(f'\\nArredondamento com 3 dígitos: {float(r)}')\n",
    "calcularErros(exato, float(r))\n",
    "\n",
    "m = arredondar(arredondar(a, 4) / arredondar(b, 4), 4)\n",
    "n = arredondar(arredondar(c, 4) / arredondar(d, 4), 4)\n",
    "o = arredondar(arredondar(m, 4) - arredondar(n, 4), 4)\n",
    "p = arredondar(arredondar(2, 4) * arredondar(e, 4), 4)\n",
    "q = arredondar(p - arredondar(f, 4), 4)\n",
    "r = arredondar(arredondar(o, 4) / arredondar(q, 4), 4)\n",
    "print(f'\\nArredondamento com 4 dígitos: {float(r)}')\n",
    "calcularErros(exato, float(r))"
   ]
  },
  {
   "cell_type": "code",
   "execution_count": 12,
   "metadata": {
    "colab": {
     "base_uri": "https://localhost:8080/"
    },
    "executionInfo": {
     "elapsed": 340,
     "status": "ok",
     "timestamp": 1636574105845,
     "user": {
      "displayName": "Aristoteles Peixoto Barros",
      "photoUrl": "https://lh3.googleusercontent.com/a-/AOh14GhAWg84MOPk06Rpxmz-khaAUacNnDSXodRH71Hg=s64",
      "userId": "12183104917238683087"
     },
     "user_tz": 180
    },
    "id": "v3PzBZlCmirn",
    "outputId": "fc8a899b-c4a8-4c36-b621-13bf3d4003c0"
   },
   "outputs": [
    {
     "name": "stdout",
     "output_type": "stream",
     "text": [
      "Cálculo exato: -0.02149631754494452\n",
      "\n",
      "Truncamento com 3 dígitos: 0.0\n",
      "Erro absoluto: 0.02149631754494452\n",
      "Erro relativo: 1.0\n",
      "\n",
      "Truncamento com 4 dígitos: -0.034\n",
      "Erro absoluto: 0.012503682455055481\n",
      "Erro relativo: 0.5816662518551269\n",
      "\n",
      "Arredondamento com 3 dígitos: 0.0\n",
      "Erro absoluto: 0.02149631754494452\n",
      "Erro relativo: 1.0\n",
      "\n",
      "Arredondamento com 4 dígitos: -0.017\n",
      "Erro absoluto: 0.00449631754494452\n",
      "Erro relativo: 0.2091668740724366\n"
     ]
    }
   ],
   "source": [
    "a, b, c, d = 22, 7, 1, 17\n",
    "\n",
    "exato = (pi - (a/b)) / (c / d)\n",
    "print(f'Cálculo exato: {exato}')\n",
    "\n",
    "o = truncar(truncar(a, 3) / truncar(b, 3), 3)\n",
    "p = truncar(truncar(pi, 3) - o, 3)\n",
    "q = truncar(truncar(c, 3) / truncar(d, 3), 3)\n",
    "r = truncar(truncar(p, 3) / truncar(q, 3), 3)\n",
    "print(f'\\nTruncamento com 3 dígitos: {float(r)}')\n",
    "calcularErros(exato, float(r))\n",
    "\n",
    "o = truncar(truncar(a, 4) / truncar(b, 4), 4)\n",
    "p = truncar(truncar(pi, 4) - o, 4)\n",
    "q = truncar(truncar(c, 4) / truncar(d, 4), 4)\n",
    "r = truncar(truncar(p, 4) / truncar(q, 4), 4)\n",
    "print(f'\\nTruncamento com 4 dígitos: {float(r)}')\n",
    "calcularErros(exato, float(r))\n",
    "\n",
    "o = arredondar(arredondar(a, 3) / arredondar(b, 3), 3)\n",
    "p = arredondar(arredondar(pi, 3) - o, 3)\n",
    "q = arredondar(arredondar(c, 3) / arredondar(d, 3), 3)\n",
    "r = arredondar(arredondar(p, 3) / arredondar(q, 3), 3)\n",
    "print(f'\\nArredondamento com 3 dígitos: {float(r)}')\n",
    "calcularErros(exato, float(r))\n",
    "\n",
    "o = arredondar(arredondar(a, 4) / arredondar(b, 4), 4)\n",
    "p = arredondar(arredondar(pi, 4) - o, 4)\n",
    "q = arredondar(arredondar(c, 4) / arredondar(d, 4), 4)\n",
    "r = arredondar(arredondar(p, 4) / arredondar(q, 4), 4)\n",
    "print(f'\\nArredondamento com 4 dígitos: {float(r)}')\n",
    "calcularErros(exato, float(r))"
   ]
  },
  {
   "cell_type": "markdown",
   "metadata": {
    "id": "M5JyJz9-mt2I"
   },
   "source": [
    "# Questão 3"
   ]
  },
  {
   "cell_type": "code",
   "execution_count": 13,
   "metadata": {},
   "outputs": [],
   "source": [
    "def truncarVarios(p, t):\n",
    "    c = 0\n",
    "    while(abs(p > 1)):\n",
    "        p = p/10\n",
    "        c = c+1\n",
    "    if t == 1:\n",
    "        p = Decimal(p).quantize(Decimal('0.1'), rounding=ROUND_DOWN)\n",
    "    elif t == 2:\n",
    "        p = Decimal(p).quantize(Decimal('0.01'), rounding=ROUND_DOWN)\n",
    "    elif t == 3:\n",
    "        p = Decimal(p).quantize(Decimal('0.001'), rounding=ROUND_DOWN)\n",
    "    elif t == 4:\n",
    "        p = Decimal(p).quantize(Decimal('0.0001'), rounding=ROUND_DOWN)\n",
    "    elif t == 5:\n",
    "        p = Decimal(p).quantize(Decimal('0.00001'), rounding=ROUND_DOWN)\n",
    "    elif t == 6:\n",
    "        p = Decimal(p).quantize(Decimal('0.000001'), rounding=ROUND_DOWN)\n",
    "    elif t == 7:\n",
    "        p = Decimal(p).quantize(Decimal('0.0000001'), rounding=ROUND_DOWN)\n",
    "    elif t == 8:\n",
    "        p = Decimal(p).quantize(Decimal('0.00000001'), rounding=ROUND_DOWN)\n",
    "    elif t == 9:\n",
    "        p = Decimal(p).quantize(Decimal('0.000000001'), rounding=ROUND_DOWN)\n",
    "    else:\n",
    "        p = Decimal(p).quantize(Decimal('0.0000000001'), rounding=ROUND_DOWN)\n",
    "    p = p*10**(c)\n",
    "    return p"
   ]
  },
  {
   "cell_type": "code",
   "execution_count": 14,
   "metadata": {},
   "outputs": [],
   "source": [
    "def calcularErroRelativo(p1, p2):\n",
    "    return abs(p1 - p2) / abs(p1)"
   ]
  },
  {
   "cell_type": "code",
   "execution_count": 15,
   "metadata": {
    "colab": {
     "base_uri": "https://localhost:8080/",
     "height": 280
    },
    "executionInfo": {
     "elapsed": 344,
     "status": "ok",
     "timestamp": 1636647970805,
     "user": {
      "displayName": "João Paulo Agostinho da Silva",
      "photoUrl": "https://lh3.googleusercontent.com/a-/AOh14Gihe7k2Fa1XQkxm3oFc7x_Uh5C44SzfUG8O2DXr=s64",
      "userId": "02561318695232869650"
     },
     "user_tz": 180
    },
    "id": "OdU-fQ-CmwzA",
    "outputId": "ba0f764d-79dd-4240-f59c-090109a64d87"
   },
   "outputs": [],
   "source": [
    "erroRelativoA = [0] * 10\n",
    "erroRelativoB = [0] * 10\n",
    "erroRelativoC = [0] * 10\n",
    "erroRelativoD = [0] * 10\n",
    "digitosTruncados = [i for i in range(1, 11)]\n",
    "precisaoPadrao = [132.501, 1.673, 1.9535401391839955, -0.021496317541426446]\n",
    "\n",
    "for i in range(10):\n",
    "    erroRelativoA[i] = calcularErroRelativo(Decimal(precisaoPadrao[0]), truncarVarios(precisaoPadrao[0], i+1))\n",
    "    erroRelativoB[i] = calcularErroRelativo(Decimal(precisaoPadrao[1]), truncarVarios(precisaoPadrao[1], i+1))\n",
    "    erroRelativoC[i] = calcularErroRelativo(Decimal(precisaoPadrao[2]), truncarVarios(precisaoPadrao[2], i+1))\n",
    "    erroRelativoD[i] = calcularErroRelativo(Decimal(precisaoPadrao[3]), truncarVarios(precisaoPadrao[3], i+1))"
   ]
  },
  {
   "cell_type": "code",
   "execution_count": 16,
   "metadata": {},
   "outputs": [
    {
     "data": {
      "image/png": "[encoded data removed]",
      "text/plain": [
       "<Figure size 432x288 with 1 Axes>"
      ]
     },
     "metadata": {
      "needs_background": "light"
     },
     "output_type": "display_data"
    }
   ],
   "source": [
    "plt.plot(digitosTruncados, erroRelativoA, 'r')\n",
    "plt.plot(digitosTruncados, erroRelativoB, 'b')\n",
    "plt.plot(digitosTruncados, erroRelativoC, 'g')\n",
    "plt.plot(digitosTruncados, erroRelativoD, 'y')\n",
    "plt.xlabel('Dígitos truncados')\n",
    "plt.ylabel('Erro relativo')\n",
    "plt.legend(['a', 'b','c', 'd'])\n",
    "plt.show()"
   ]
  },
  {
   "cell_type": "markdown",
   "metadata": {
    "id": "z-yKMXF_mx51"
   },
   "source": [
    "# Questão 4"
   ]
  },
  {
   "cell_type": "code",
   "execution_count": 17,
   "metadata": {},
   "outputs": [],
   "source": [
    "def calcularErroRelativo(p1, p2):\n",
    "    return abs(p1 - p2) / abs(p1)"
   ]
  },
  {
   "cell_type": "code",
   "execution_count": 18,
   "metadata": {
    "colab": {
     "base_uri": "https://localhost:8080/"
    },
    "executionInfo": {
     "elapsed": 435,
     "status": "ok",
     "timestamp": 1636662585151,
     "user": {
      "displayName": "João Paulo Agostinho da Silva",
      "photoUrl": "https://lh3.googleusercontent.com/a-/AOh14Gihe7k2Fa1XQkxm3oFc7x_Uh5C44SzfUG8O2DXr=s64",
      "userId": "02561318695232869650"
     },
     "user_tz": 180
    },
    "id": "kFUN4jrGm0OH",
    "outputId": "350ac667-0a66-44c0-e712-0acc95141c2a"
   },
   "outputs": [
    {
     "name": "stdout",
     "output_type": "stream",
     "text": [
      "\n",
      "Resultado exato: -0.011578947368421534\n",
      "\n",
      "Resultado da fórmula 1: -0.007\n",
      "Erro relativo: 0.39545454545457054\n",
      "\n",
      "Resultado da fórmula 2: -0.010\n",
      "Erro relativo: 0.13636363636367224\n",
      "\n",
      "A segunda fórmula funciona melhor com o arredondamento com 3 dígitos, por isso tem menor erro relativo ao resultado exato.\n"
     ]
    }
   ],
   "source": [
    "x0 = 1.31\n",
    "y0 = 3.24\n",
    "x1 = 1.93\n",
    "y1 = 4.76\n",
    "\n",
    "xExato = (x0*y1 - x1*y0) / (y1 - y0)\n",
    "\n",
    "a = arredondar(arredondar(x0,3) * arredondar(y1,3), 3)\n",
    "b = arredondar(arredondar(x1,3) * arredondar(y0,3), 3)\n",
    "c = arredondar(a - b, 3)\n",
    "d = arredondar(arredondar(y1,3) - arredondar(y0,3), 3)\n",
    "r1 = arredondar(c / d, 3)\n",
    "\n",
    "e = arredondar(arredondar(x1,3) - arredondar(x0,3), 3)\n",
    "f = arredondar(e * arredondar(y0,3), 3)\n",
    "g = arredondar(arredondar(y1,3) - arredondar(y0,3), 3)\n",
    "h = arredondar(f / g, 3)\n",
    "r2 = arredondar(arredondar(x0,3) - h, 3)\n",
    "\n",
    "print(f'\\nResultado exato: {xExato}')\n",
    "print(f'\\nResultado da fórmula 1: {r1}')\n",
    "print('Erro relativo:', calcularErroRelativo(xExato, float(r1)))\n",
    "print(f'\\nResultado da fórmula 2: {r2}')\n",
    "print('Erro relativo:', calcularErroRelativo(xExato, float(r2)))\n",
    "\n",
    "if(calcularErroRelativo(xExato, float(r1)) <\n",
    "   calcularErroRelativo(xExato, float(r2))):\n",
    "    print('\\nA primeira fórmula funciona melhor com o arredondamento ', end=\"\")\n",
    "    print('com 3 dígitos, por isso tem menor erro relativo ao resultado exato.')\n",
    "else:\n",
    "    print('\\nA segunda fórmula funciona melhor com o arredondamento ', end=\"\")\n",
    "    print('com 3 dígitos, por isso tem menor erro relativo ao resultado exato.')"
   ]
  },
  {
   "cell_type": "markdown",
   "metadata": {},
   "source": [
    "A primeira fórmula realiza duas operações de multiplicação; a segunda, uma operação. Como a multiplicação de números com 3 dígitos resulta num produto com mais de 3 dígitos, a fórmula que faz menos operações de multiplicação tem o resultado menos alterado pelo arredondamento, portanto, funciona melhor."
   ]
  },
  {
   "cell_type": "markdown",
   "metadata": {
    "id": "7vl2u8genAC_"
   },
   "source": [
    "# Questão 5"
   ]
  },
  {
   "cell_type": "markdown",
   "metadata": {},
   "source": [
    "Item b"
   ]
  },
  {
   "cell_type": "code",
   "execution_count": 19,
   "metadata": {
    "colab": {
     "base_uri": "https://localhost:8080/"
    },
    "executionInfo": {
     "elapsed": 12,
     "status": "ok",
     "timestamp": 1636676337420,
     "user": {
      "displayName": "Aristoteles Peixoto Barros",
      "photoUrl": "https://lh3.googleusercontent.com/a-/AOh14GhAWg84MOPk06Rpxmz-khaAUacNnDSXodRH71Hg=s64",
      "userId": "12183104917238683087"
     },
     "user_tz": 180
    },
    "id": "YNjwYSNZnCfd",
    "outputId": "8a20012a-85e6-4a94-852f-f8c50d806f75"
   },
   "outputs": [
    {
     "name": "stdout",
     "output_type": "stream",
     "text": [
      "f(1.53) segundo a expressão original: -6.790\n"
     ]
    }
   ],
   "source": [
    "# a = 1.01e^(4x) = 1.01(e^x)^4\n",
    "a = arredondar(arredondar(1.01, 3) * arredondar(arredondar(4.62, 3)**arredondar(4, 3), 3), 3)\n",
    "\n",
    "# b = 4.62e^(3x) = 4.62(e^x)^3\n",
    "b = arredondar(arredondar(4.62, 3) * arredondar(arredondar(4.62, 3)**arredondar(3, 3), 3), 3)\n",
    "\n",
    "# c = 3.11e^(2x) = 3.11(e^x)^2\n",
    "c = arredondar(arredondar(3.11, 3) * arredondar(arredondar(4.62, 3)**arredondar(2, 3), 3), 3)\n",
    "\n",
    "# d = 12.2e^x\n",
    "d = arredondar(arredondar(12.2, 3) * arredondar(4.62, 3), 3)\n",
    "\n",
    "f = arredondar(1.99, 3)\n",
    "\n",
    "g = arredondar(a - b, 3)\n",
    "g = arredondar(g - c, 3)\n",
    "g = arredondar(g + d, 3)\n",
    "g = arredondar(g - f, 3)\n",
    "\n",
    "print(f'f(1.53) segundo a expressão original: {g}')"
   ]
  }
 ],
 "metadata": {
  "colab": {
   "name": "Lista 1 Métodos Numéricos",
   "provenance": []
  },
  "kernelspec": {
   "display_name": "Python 3 (ipykernel)",
   "language": "python",
   "name": "python3"
  },
  "language_info": {
   "codemirror_mode": {
    "name": "ipython",
    "version": 3
   },
   "file_extension": ".py",
   "mimetype": "text/x-python",
   "name": "python",
   "nbconvert_exporter": "python",
   "pygments_lexer": "ipython3",
   "version": "3.8.10"
  }
 },
 "nbformat": 4,
 "nbformat_minor": 1
}
