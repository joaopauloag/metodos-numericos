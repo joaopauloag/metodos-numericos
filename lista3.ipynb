{
 "cells": [
  {
   "cell_type": "code",
   "execution_count": 1,
   "metadata": {
    "executionInfo": {
     "elapsed": 300,
     "status": "ok",
     "timestamp": 1645821509623,
     "user": {
      "displayName": "João Paulo Agostinho da Silva",
      "photoUrl": "https://lh3.googleusercontent.com/a-/AOh14Gihe7k2Fa1XQkxm3oFc7x_Uh5C44SzfUG8O2DXr=s64",
      "userId": "02561318695232869650"
     },
     "user_tz": 180
    },
    "id": "OqLwKyz6owEi"
   },
   "outputs": [],
   "source": [
    "import numpy as np\n",
    "from random import randint\n",
    "from time import time as t\n",
    "from matplotlib import pyplot as plt"
   ]
  },
  {
   "cell_type": "markdown",
   "metadata": {
    "id": "2YpT0s8hiQbI"
   },
   "source": [
    "**1 - Implemente o Método da Eliminação Gaussiana, Decomposição PtLU, Decomposição de Cholesky e substituição reversa para resolver Ax = b. Escolha 3 sistemas de equação lineares distintos, com 3 equações e 3 incógnitas, onde seja necessário realizar troca de linhas em pelo menos um deles. Resolva os sistemas aplicando cada um dos métodos. Exiba a matriz de permutação P obtida de cada sistema.**"
   ]
  },
  {
   "cell_type": "code",
   "execution_count": 2,
   "metadata": {
    "executionInfo": {
     "elapsed": 327,
     "status": "ok",
     "timestamp": 1645821512310,
     "user": {
      "displayName": "João Paulo Agostinho da Silva",
      "photoUrl": "https://lh3.googleusercontent.com/a-/AOh14Gihe7k2Fa1XQkxm3oFc7x_Uh5C44SzfUG8O2DXr=s64",
      "userId": "02561318695232869650"
     },
     "user_tz": 180
    },
    "id": "majGidf_1gvL"
   },
   "outputs": [],
   "source": [
    "def eliminacaoGaussiana(A, n):\n",
    "    m = np.zeros(n)\n",
    "    x = np.zeros(n)\n",
    "\n",
    "    for i in range(0, n-1):\n",
    "        for p in range(i, n):\n",
    "            if A[p,i] != 0:\n",
    "                break\n",
    "        if(p == n-1 and A[p,i]==0):\n",
    "            print('Não há solução única')\n",
    "            return\n",
    "        if p!= i:\n",
    "            A[[i,p]] = A[[p,i]]\n",
    "        for j in range(i+1,n):\n",
    "            m[j] = A[j,i]/A[i,i]\n",
    "            A[j,:] = A[j,:] - m[j]*A[i,:]\n",
    "        if A[n-1,n-1] == 0:\n",
    "            print('Não há solução única')\n",
    "            return\n",
    "\n",
    "    x[n-1] = A[n-1,n]/A[n-1, n-1]\n",
    "    for i in range(n-2,-1,-1):\n",
    "        x[i] = (A[i,n]-np.dot(A[i,i:n],x[i:n])) / A[i,i]\n",
    "        return x"
   ]
  },
  {
   "cell_type": "code",
   "execution_count": 3,
   "metadata": {
    "executionInfo": {
     "elapsed": 294,
     "status": "ok",
     "timestamp": 1645821515228,
     "user": {
      "displayName": "João Paulo Agostinho da Silva",
      "photoUrl": "https://lh3.googleusercontent.com/a-/AOh14Gihe7k2Fa1XQkxm3oFc7x_Uh5C44SzfUG8O2DXr=s64",
      "userId": "02561318695232869650"
     },
     "user_tz": 180
    },
    "id": "r0aqqygi1mw1"
   },
   "outputs": [],
   "source": [
    "def PtLU(M, n):\n",
    "    A = M.copy()\n",
    "    s = np.zeros((n))\n",
    "    x = np.zeros((n))\n",
    "    y = np.zeros((n))\n",
    "    P = np.zeros((n,n), np.int64)\n",
    "    permu = np.arange(n)\n",
    "    I = np.eye(n, dtype=int)\n",
    "    L = np.zeros((n,n), np.float64)\n",
    "\n",
    "    for i in range(n):\n",
    "        s[i] = max(abs(A[i, :n]))\n",
    "        if s[i] == 0:\n",
    "            print('sem solução')\n",
    "            return\n",
    "\n",
    "    for i in range(n-1):\n",
    "        a = np.abs(A[i:, i])/s[i:]\n",
    "        p = np.argmax(a) + i\n",
    "        if A[p,i] == 0:\n",
    "            print('sem solução')\n",
    "            return\n",
    "        if p != i:\n",
    "            permu[[p,i]] = permu[[i,p]]\n",
    "            A[[i, p]] = A[[p, i]]\n",
    "            L[[i, p]] = L[[p, i]]\n",
    "\n",
    "        for j in range(i+1, n):\n",
    "            m = A[j, i]/A[i, i]\n",
    "            A[j] = A[j] - m * A[i]\n",
    "            L[j,i] = m\n",
    "    if A[-1,-1] == 0:\n",
    "        print('Sem solução')\n",
    "        return\n",
    "  \n",
    "    for i in range(n):\n",
    "        index = permu.ravel() == i\n",
    "        P[index, i] = 1\n",
    "  \n",
    "    U = A[:, :n]\n",
    "    L = L+I\n",
    "    y = A[:, n]\n",
    "\n",
    "    x[-1] = y[-1] / U[-1,n-1]\n",
    "    for i in range(n-2, -1, -1):\n",
    "        x[i] = (y[i] - np.dot(U[i, i+1:n], x[i+1:n])) / U[i,i]\n",
    "    return x"
   ]
  },
  {
   "cell_type": "code",
   "execution_count": 4,
   "metadata": {
    "colab": {
     "base_uri": "https://localhost:8080/"
    },
    "executionInfo": {
     "elapsed": 316,
     "status": "ok",
     "timestamp": 1645821520155,
     "user": {
      "displayName": "João Paulo Agostinho da Silva",
      "photoUrl": "https://lh3.googleusercontent.com/a-/AOh14Gihe7k2Fa1XQkxm3oFc7x_Uh5C44SzfUG8O2DXr=s64",
      "userId": "02561318695232869650"
     },
     "user_tz": 180
    },
    "id": "b_UpOpSZWGXt",
    "outputId": "a6aa10c2-3a51-4f9b-c93e-fbb4542495f5"
   },
   "outputs": [
    {
     "name": "stdout",
     "output_type": "stream",
     "text": [
      "Matrizes:\n",
      "[[ 1 -1  2 -6]\n",
      " [ 2 -2  3 10]\n",
      " [ 1 -3  1 -4]] \n",
      "\n",
      " [[ 1  1  1  1]\n",
      " [ 2  1 -3  4]\n",
      " [ 3  0 -1  5]] \n",
      "\n",
      " [[1.  2.  3.6 4. ]\n",
      " [0.  0.  1.4 2. ]\n",
      " [1.3 1.  1.  1. ]] \n",
      "\n",
      "\n",
      "Eliminação gaussiana:\t [  0.  10. -22.]\n",
      "Decomposição PtLU:\t [ 48.  10. -22.]\n",
      "\n",
      "Eliminação gaussiana:\t [ 0.         -0.18181818 -0.36363636]\n",
      "Decomposição PtLU:\t [ 1.54545455 -0.18181818 -0.36363636]\n",
      "\n",
      "Eliminação gaussiana:\t [ 0.         -0.66071429  1.42857143]\n",
      "Decomposição PtLU:\t [ 0.17857143 -0.66071429  1.42857143]\n"
     ]
    }
   ],
   "source": [
    "#Eliminação gaussiana & Decomposição PtLU\n",
    "M1 = np.array([[1, -1, 2, -6], [2, -2, 3, 10], [1, -3, 1, -4]])\n",
    "M2 = np.array([[1, 1, 1, 1], [2, 1, -3, 4], [3, 0, -1, 5]])\n",
    "M3 = np.array([[1, 2, 3.6, 4], [0, 0, 1.4, 2], [1.3, 1, 1, 1]])\n",
    "\n",
    "print('Matrizes:')\n",
    "print(M1, '\\n\\n', M2, '\\n\\n', M3, '\\n\\n')\n",
    "print(f'Eliminação gaussiana:\\t {eliminacaoGaussiana(M1, 3)}')\n",
    "print(f'Decomposição PtLU:\\t {PtLU(M1, 3)}\\n')\n",
    "print(f'Eliminação gaussiana:\\t {eliminacaoGaussiana(M2, 3)}')\n",
    "print(f'Decomposição PtLU:\\t {PtLU(M2, 3)}\\n')\n",
    "print(f'Eliminação gaussiana:\\t {eliminacaoGaussiana(M3, 3)}')\n",
    "print(f'Decomposição PtLU:\\t {PtLU(M3, 3)}')"
   ]
  },
  {
   "cell_type": "markdown",
   "metadata": {
    "id": "Y7X8Yn4BksSC"
   },
   "source": [
    "**2 - Implemente um algoritmo para gerar matrizes positivas definidas aleatórias. Ele deve seguir os seguintes passos:**\n",
    "\n",
    "\n",
    "**_Entrada_: dimensão n da matriz pos. def. aleatória quadrada An×n**\n",
    "\n",
    "**_Saída_: matriz pos. def. aleatória quadrada An×n**"
   ]
  },
  {
   "cell_type": "code",
   "execution_count": 5,
   "metadata": {},
   "outputs": [],
   "source": [
    "# A = rand(n,n);          Gerar uma matriz aleatória qualquer n × n com elementos no intervalo [0, 1]\n",
    "# A = 0.5 · (A + A^T);    Gerar uma matriz simétrica\n",
    "# A = A + n · In;         Como A(i, j) < 1, ao somar n · In garantiremos por construção uma matriz simétrica\n",
    "#                         estritamente diagonal dominante (e consequentemente simétrica positiva definida)."
   ]
  },
  {
   "cell_type": "code",
   "execution_count": 6,
   "metadata": {
    "colab": {
     "base_uri": "https://localhost:8080/"
    },
    "executionInfo": {
     "elapsed": 296,
     "status": "ok",
     "timestamp": 1645821532296,
     "user": {
      "displayName": "João Paulo Agostinho da Silva",
      "photoUrl": "https://lh3.googleusercontent.com/a-/AOh14Gihe7k2Fa1XQkxm3oFc7x_Uh5C44SzfUG8O2DXr=s64",
      "userId": "02561318695232869650"
     },
     "user_tz": 180
    },
    "id": "0RjkrBUZix4K",
    "outputId": "f6e31eb2-c183-46c8-d5da-ea8994e35027"
   },
   "outputs": [
    {
     "name": "stdout",
     "output_type": "stream",
     "text": [
      "[[6.  0.5 0.5 0.5 0. ]\n",
      " [0.5 6.  0.5 0.  0. ]\n",
      " [0.5 0.5 5.  1.  1. ]\n",
      " [0.5 0.  1.  6.  0.5]\n",
      " [0.  0.  1.  0.5 6. ]]\n"
     ]
    }
   ],
   "source": [
    "def rand(n):\n",
    "    A = np.zeros((n,n))\n",
    "    for i in range(n):\n",
    "        for j in range(n):\n",
    "            A[i,j] = randint(0,1)\n",
    "    return A\n",
    "\n",
    "def matrizPositivaDefinida(n):\n",
    "    A = rand(n)\n",
    "    A = 0.5 * (A + np.matrix(A).T)\n",
    "    A += n * np.eye(n)\n",
    "    return A\n",
    "\n",
    "print(matrizPositivaDefinida(5))"
   ]
  },
  {
   "cell_type": "markdown",
   "metadata": {
    "id": "zd4GlL64ThhQ"
   },
   "source": [
    "**3 - Realize o seguinte experimento para comparar a performance dos 3 métodos da questão 1, considerando os valores de n 10, 100, 500, 1.000, 1.500 e 2.000.**\n",
    "\n",
    "**(a) Para cada valor de n, gere 10 matrizes positivas definidas aleatórias n × n e 10 vetores aleatórios b != 0 com n entradas e resolva os sistemas Ax = b, onde A  ́e cada uma das matrizes geradas, usando os 3 métodos da questão 1. Guarde o tempo de execução total de cada método, para cada n.**\n",
    "\n",
    "**(b) Para cada valor de n, gere 1 unica matriz positiva definida aleatória n × n e 10 vetores b != 0 aleatórios com n entradas e resolva os sistemas Ax = b usando os 3 métodos da questão 1. Na sua implementação, leve em conta que alguns métodos não precisam recalcular decomposições para valores de A iguais. Guarde o tempo de execução total de cada método, para cada n.**\n",
    "\n",
    "**(c) Considerando os resultados dos  ́ıtens (a) e (b), compare os tempos de execução plotando uma ́unica figura com os 6 gráficos de tempos de execução em função do tamanho da matriz n, onde o eixo horizontal representa o tamanho n da matriz e o eixo vertical o tempo de execução. Cada gráfico deve ser exibido como uma curva poligonal. Qual método funciona melhor na letra a) ? E na letra b) ?**"
   ]
  },
  {
   "cell_type": "code",
   "execution_count": 7,
   "metadata": {
    "colab": {
     "base_uri": "https://localhost:8080/",
     "height": 638
    },
    "executionInfo": {
     "elapsed": 679247,
     "status": "ok",
     "timestamp": 1645826164124,
     "user": {
      "displayName": "João Paulo Agostinho da Silva",
      "photoUrl": "https://lh3.googleusercontent.com/a-/AOh14Gihe7k2Fa1XQkxm3oFc7x_Uh5C44SzfUG8O2DXr=s64",
      "userId": "02561318695232869650"
     },
     "user_tz": 180
    },
    "id": "326TWgZzTh7m",
    "outputId": "4ffac9fd-0041-421c-8979-810500c0cb84"
   },
   "outputs": [
    {
     "data": {
      "image/png": "[encoded data removed]",
      "text/plain": [
       "<Figure size 432x288 with 1 Axes>"
      ]
     },
     "metadata": {
      "needs_background": "light"
     },
     "output_type": "display_data"
    },
    {
     "name": "stdout",
     "output_type": "stream",
     "text": [
      "\n",
      "\n"
     ]
    },
    {
     "data": {
      "image/png": "[encoded data removed]",
      "text/plain": [
       "<Figure size 432x288 with 1 Axes>"
      ]
     },
     "metadata": {
      "needs_background": "light"
     },
     "output_type": "display_data"
    }
   ],
   "source": [
    "def matrizPositivaDefinida(n):\n",
    "    A = np.random.rand(n,n)\n",
    "    A = 0.5 * (A + A.T)\n",
    "    A += n * np.eye(n)\n",
    "    return A\n",
    "\n",
    "def vetorAleatorio(n):\n",
    "    v = np.array(np.array_split(np.random.rand(n), n))\n",
    "    return v\n",
    "\n",
    "def comparacao(qtd_matriz, qtd_vetor):\n",
    "    A = []\n",
    "    B = []\n",
    "    temposGaussiana = []\n",
    "    temposPtLU = []\n",
    "    # Ignorando n > 1000 (muito custoso)\n",
    "    tamanhos = [10, 100, 250, 500, 1000]\n",
    "  \n",
    "    for i in tamanhos:\n",
    "        for j in range(qtd_matriz):\n",
    "            A.append(matrizPositivaDefinida(i))\n",
    "            for k in range(qtd_vetor):\n",
    "                B.append(vetorAleatorio(i))\n",
    "\n",
    "    for k, tam in enumerate(tamanhos):\n",
    "\n",
    "        # Eliminação Gaussiana\n",
    "        ti = t()\n",
    "        for i in range(k * qtd_matriz, qtd_matriz * (k+1)):\n",
    "            x0 = np.zeros(A[i].shape[0])\n",
    "            for j in range(i * qtd_vetor, qtd_vetor * (i+1)):\n",
    "                eliminacaoGaussiana(np.append(A[i], B[j], axis=1), tam)\n",
    "        temposGaussiana.append(t() - ti)\n",
    "\n",
    "        # Decomposição PtLU\n",
    "        ti = t()\n",
    "        for i in range(k * qtd_matriz, qtd_matriz * (k+1)):\n",
    "            x0 = np.zeros(A[i].shape[0])\n",
    "            for j in range(i * qtd_vetor, qtd_vetor * (i+1)):\n",
    "                PtLU(np.append(A[i], B[j], axis=1), tam)\n",
    "        temposPtLU.append(t() - ti)\n",
    "\n",
    "    plt.plot(tamanhos, temposGaussiana, c = 'blue')\n",
    "    plt.plot(tamanhos, temposPtLU, c = 'yellow')\n",
    "    plt.plot(tamanhos, temposGaussiana, 'go')\n",
    "    plt.plot(tamanhos, temposPtLU, 'go')\n",
    "    plt.title(f'ELiminação Gaussiana x Decomposição PtLU\\n{qtd_matriz} Matrizes x {qtd_vetor} Vetores')\n",
    "    plt.ylabel('Tempo de execução')\n",
    "    plt.xlabel('Tamanho da entrada')\n",
    "    plt.legend(['Gaussiana', 'PtLU'])\n",
    "    plt.show()\n",
    "\n",
    "comparacao(10, 10)\n",
    "print('\\n')\n",
    "comparacao(1, 10)"
   ]
  },
  {
   "cell_type": "markdown",
   "metadata": {},
   "source": [
    "O método PtLU tem melhor desempenho nos dois casos."
   ]
  }
 ],
 "metadata": {
  "colab": {
   "collapsed_sections": [],
   "name": "CORRIGIDA: Lista 3 Métodos Numéricos",
   "provenance": [
    {
     "file_id": "1xzioTOrRVkuIvT1YhAuKZ65eFBCdYsC0",
     "timestamp": 1645734692456
    }
   ]
  },
  "kernelspec": {
   "display_name": "Python 3 (ipykernel)",
   "language": "python",
   "name": "python3"
  },
  "language_info": {
   "codemirror_mode": {
    "name": "ipython",
    "version": 3
   },
   "file_extension": ".py",
   "mimetype": "text/x-python",
   "name": "python",
   "nbconvert_exporter": "python",
   "pygments_lexer": "ipython3",
   "version": "3.8.10"
  }
 },
 "nbformat": 4,
 "nbformat_minor": 1
}
